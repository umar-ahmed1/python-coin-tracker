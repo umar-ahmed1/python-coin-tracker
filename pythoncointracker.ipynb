{
 "cells": [
  {
   "cell_type": "code",
   "execution_count": 1,
   "metadata": {},
   "outputs": [],
   "source": [
    "#%pip install selenium\n",
    "#%pip install bs4\n",
    "#%pip install keyboard\n",
    "#%pip install undetected-chromedriver\n",
    "#%pip install setuptools\n",
    "#%pip install tk"
   ]
  },
  {
   "cell_type": "code",
   "execution_count": 2,
   "metadata": {},
   "outputs": [],
   "source": [
    "from selenium import webdriver\n",
    "import keyboard\n",
    "from bs4 import BeautifulSoup\n",
    "import time\n",
    "import undetected_chromedriver as uc\n",
    "import tkinter as tk\n",
    "from tkinter import ttk\n"
   ]
  },
  {
   "cell_type": "code",
   "execution_count": 56,
   "metadata": {},
   "outputs": [],
   "source": [
    "COIN_URL = \"https://dexscreener.com/solana/7sjs2dzcrwk2ytcznextdttbx2oyc6y4jmynwpt9tmqr\""
   ]
  },
  {
   "cell_type": "code",
   "execution_count": 58,
   "metadata": {},
   "outputs": [],
   "source": [
    "def getText(driver):\n",
    "    time.sleep(1)\n",
    "    src = driver.page_source\n",
    "    soup = BeautifulSoup(src, \"html.parser\")\n",
    "    price = soup.find(\"div\",\"custom-1baulvz\")\n",
    "    if price:\n",
    "        return float(price.text.strip()[1:])\n",
    "    return 0"
   ]
  },
  {
   "cell_type": "code",
   "execution_count": 59,
   "metadata": {},
   "outputs": [],
   "source": [
    "def calcValue(price,numberOfCoins):\n",
    "    return price * numberOfCoins"
   ]
  },
  {
   "cell_type": "code",
   "execution_count": 60,
   "metadata": {},
   "outputs": [],
   "source": [
    "def calcProfit(currentPrice,entryPrice,numberOfCoins):\n",
    "    return (currentPrice - entryPrice) * numberOfCoins"
   ]
  },
  {
   "cell_type": "code",
   "execution_count": 61,
   "metadata": {},
   "outputs": [],
   "source": [
    "def update_value(driver,numberOfCoinsVar,entryPriceVar, entryValueLabel, currentValueLabel, profitLabel):\n",
    "    try:\n",
    "        #update total value\n",
    "        price = getText(driver)\n",
    "        number_of_coins = float(numberOfCoinsVar.get())\n",
    "        value = calcValue(price, number_of_coins)\n",
    "        currentValueLabel.config(text=f\"Current Value: {value:.2f}\")\n",
    "\n",
    "        # If entry price is provided, calculate profit\n",
    "        entry_price = float(entryPriceVar.get())\n",
    "        entryValue = calcValue(entry_price, number_of_coins)\n",
    "        entryValueLabel.config(text=f\"Entry Value: {entryValue:.2f}\")\n",
    "\n",
    "        if entry_price:\n",
    "            entry_price = float(entry_price)\n",
    "            profit = calcProfit(price, entry_price, number_of_coins)\n",
    "            profitLabel.config(text=f\"Total profit: {profit:.2f}\")\n",
    "            if profit > 0:\n",
    "                profitLabel.config(foreground=\"green\")\n",
    "            elif profit < 0:\n",
    "                profitLabel.config(foreground=\"red\")\n",
    "            else:\n",
    "                profitLabel.config(foreground=\"black\")\n",
    "        else:\n",
    "            profitLabel.config(text=\"Total profit: N/A\", foreground=\"black\")\n",
    "        \n",
    "        currentValueLabel.after(1000, update_value, driver,numberOfCoinsVar,entryPriceVar, entryValueLabel, currentValueLabel, profitLabel)\n",
    "    except Exception as e:\n",
    "        print(f\"Error: {e}\")"
   ]
  },
  {
   "cell_type": "code",
   "execution_count": 62,
   "metadata": {},
   "outputs": [],
   "source": [
    "def main(numberOfCoinsVar, entryPriceVar, entryValueLabel, currentValueLabel, profitLabel):\n",
    "    driver = uc.Chrome()\n",
    "    driver.get(COIN_URL)\n",
    "    update_value(driver,numberOfCoinsVar,entryPriceVar, entryValueLabel, currentValueLabel, profitLabel)\n",
    "    "
   ]
  },
  {
   "cell_type": "code",
   "execution_count": 63,
   "metadata": {},
   "outputs": [],
   "source": [
    "def create_gui():\n",
    "    root = tk.Tk()\n",
    "    root.title(\"Crypto Value Tracker\")\n",
    "    \n",
    "    # Input for number of coins\n",
    "    ttk.Label(root, text=\"Number of Coins:\").grid(row=0, column=0, padx=10, pady=10)\n",
    "    numberOfCoinsVar = tk.StringVar()\n",
    "    ttk.Entry(root, textvariable=numberOfCoinsVar).grid(row=0, column=1, padx=10, pady=10)\n",
    "\n",
    "    # Input for entry price\n",
    "    ttk.Label(root, text=\"Entry Price:\").grid(row=1, column=0, padx=10, pady=10)\n",
    "    entryPriceVar = tk.StringVar()\n",
    "    ttk.Entry(root, textvariable=entryPriceVar).grid(row=1, column=1, padx=10, pady=10)\n",
    "\n",
    "    #Label to display the entry value\n",
    "    entryValueLabel = ttk.Label(root, text=\"Entry value: \", font=(\"Helvetica\", 14))\n",
    "    entryValueLabel.grid(row=2, column=0, columnspan=2, pady=10)\n",
    "    \n",
    "    # Label to display the current value\n",
    "    currentValueLabel = ttk.Label(root, text=\"Current value: \", font=(\"Helvetica\", 14))\n",
    "    currentValueLabel.grid(row=3, column=0, columnspan=2, pady=10)\n",
    "\n",
    "    # Label to display the profit\n",
    "    profitLabel = ttk.Label(root, text=\"Total profit: N/A\", font=(\"Helvetica\", 14))\n",
    "    profitLabel.grid(row=4, column=0, columnspan=2, pady=10)\n",
    "\n",
    "     # Button to start tracking\n",
    "    ttk.Button(root, text=\"Start Tracking\", \n",
    "               command=lambda: main(numberOfCoinsVar, entryPriceVar, entryValueLabel, currentValueLabel, profitLabel)).grid(row=5, column=0, columnspan=2, pady=10)\n",
    "    \n",
    "    root.mainloop()"
   ]
  },
  {
   "cell_type": "code",
   "execution_count": 55,
   "metadata": {},
   "outputs": [],
   "source": [
    "if __name__ == \"__main__\":\n",
    "    create_gui()"
   ]
  }
 ],
 "metadata": {
  "kernelspec": {
   "display_name": "Python 3",
   "language": "python",
   "name": "python3"
  },
  "language_info": {
   "codemirror_mode": {
    "name": "ipython",
    "version": 3
   },
   "file_extension": ".py",
   "mimetype": "text/x-python",
   "name": "python",
   "nbconvert_exporter": "python",
   "pygments_lexer": "ipython3",
   "version": "3.11.5"
  },
  "orig_nbformat": 4,
  "vscode": {
   "interpreter": {
    "hash": "e469456ab50f34fb1b0d8c2f0e6be357ddfb7f89711293e9bed03b9aa9d67451"
   }
  }
 },
 "nbformat": 4,
 "nbformat_minor": 2
}
